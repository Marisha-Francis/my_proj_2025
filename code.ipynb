{
 "cells": [
  {
   "cell_type": "code",
   "execution_count": null,
   "id": "d9a7fc46-32d7-4f10-ac0c-7cfbcb310ff9",
   "metadata": {},
   "outputs": [],
   "source": [
    "## File handling"
   ]
  },
  {
   "cell_type": "code",
   "execution_count": null,
   "id": "d22ef90b-c2f7-4c02-a6f3-8630c563127e",
   "metadata": {},
   "outputs": [],
   "source": [
    "## open() - opens the file and returns the file objects\n",
    "\n",
    "Modes :\n",
    "\n",
    "'r' - read mode (default mode)\n",
    "'w' - write mode (overwrite file)\n",
    "'a' - append mode (adds to file)\n",
    "\n",
    "file = open(\"file path\",mode)"
   ]
  },
  {
   "cell_type": "code",
   "execution_count": 2,
   "id": "f3dc0091-ac21-42b7-95f4-f401cb31ce5f",
   "metadata": {},
   "outputs": [],
   "source": [
    "file = open(\"C:\\\\Users\\\\maris\\\\Downloads\\\\sample.txt\",'w')\n",
    "file.write(\"hi im anne\")\n",
    "file.close()"
   ]
  },
  {
   "cell_type": "code",
   "execution_count": 3,
   "id": "611247cb-a086-4163-825c-260ac05aad3b",
   "metadata": {},
   "outputs": [],
   "source": [
    "## close() - close the file once the operation is done\n",
    "file.close()"
   ]
  },
  {
   "cell_type": "code",
   "execution_count": 7,
   "id": "820774f0-bc40-4852-afcd-d823a561ca84",
   "metadata": {},
   "outputs": [
    {
     "name": "stdout",
     "output_type": "stream",
     "text": [
      "w\n"
     ]
    }
   ],
   "source": [
    "# file.mode - returns the file mode\n",
    "print(file.mode)"
   ]
  },
  {
   "cell_type": "code",
   "execution_count": 8,
   "id": "7f9a1bc3-9591-4f34-9569-30ce0ffde491",
   "metadata": {},
   "outputs": [
    {
     "name": "stdout",
     "output_type": "stream",
     "text": [
      "good to see you\n",
      "wertyuio\n",
      "qwertyuio\n",
      "asdfghjkl\n",
      "asdfghjkl\n",
      "zxcvbnm,\n",
      "123456789\n",
      "asdfghjkzxcvbnm,\n",
      "qwertyuioasdfghjk\n"
     ]
    }
   ],
   "source": [
    "# with - to handle file automatically\n",
    "\n",
    "with open(\"C:\\\\Users\\\\maris\\\\Downloads\\\\sample.txt\",'r') as file:\n",
    "    print(file.read())"
   ]
  },
  {
   "cell_type": "code",
   "execution_count": null,
   "id": "18cc75fe-80b6-4267-90b0-2ce1019d519b",
   "metadata": {},
   "outputs": [],
   "source": [
    "#read(),readline(),readlines() :\n",
    "\n",
    "read() - entire file\n",
    "readline() - reads one line at a time\n",
    "readlines() - read all lines into a list\n"
   ]
  },
  {
   "cell_type": "code",
   "execution_count": 9,
   "id": "0d4031b7-74c1-4d0f-9b18-b4bc9ba13064",
   "metadata": {},
   "outputs": [
    {
     "name": "stdout",
     "output_type": "stream",
     "text": [
      "good to see you\n",
      "wertyuio\n",
      "qwertyuio\n",
      "asdfghjkl\n",
      "asdfghjkl\n",
      "zxcvbnm,\n",
      "123456789\n",
      "asdfghjkzxcvbnm,\n",
      "qwertyuioasdfghjk\n"
     ]
    }
   ],
   "source": [
    "with open(\"C:\\\\Users\\\\maris\\\\Downloads\\\\sample.txt\",'r') as file:\n",
    "    content = file.read()\n",
    "    print(content)"
   ]
  },
  {
   "cell_type": "code",
   "execution_count": 10,
   "id": "141a2b37-add8-4565-9b4e-c8395d6edd2e",
   "metadata": {},
   "outputs": [
    {
     "name": "stdout",
     "output_type": "stream",
     "text": [
      "good to see you\n",
      "\n"
     ]
    }
   ],
   "source": [
    "with open(\"C:\\\\Users\\\\maris\\\\Downloads\\\\sample.txt\",'r') as file:\n",
    "    print(file.readline())"
   ]
  },
  {
   "cell_type": "code",
   "execution_count": 11,
   "id": "bf5ed42c-bad9-4512-adb6-3328474c33c6",
   "metadata": {},
   "outputs": [
    {
     "name": "stdout",
     "output_type": "stream",
     "text": [
      "['good to see you\\n', 'wertyuio\\n', 'qwertyuio\\n', 'asdfghjkl\\n', 'asdfghjkl\\n', 'zxcvbnm,\\n', '123456789\\n', 'asdfghjkzxcvbnm,\\n', 'qwertyuioasdfghjk']\n"
     ]
    }
   ],
   "source": [
    "with open(\"C:\\\\Users\\\\maris\\\\Downloads\\\\sample.txt\",'r') as file:\n",
    "    print(file.readlines())"
   ]
  },
  {
   "cell_type": "code",
   "execution_count": null,
   "id": "370f3d6f-2043-4ae5-9cdd-7913b3460120",
   "metadata": {},
   "outputs": [],
   "source": [
    "#write(),writeline()\n",
    "\n",
    "write() - single line at a time\n",
    "writelines() - writes a list of string to the file"
   ]
  },
  {
   "cell_type": "code",
   "execution_count": 13,
   "id": "371d14de-0ff3-45cb-beaa-e77495ab9cc9",
   "metadata": {},
   "outputs": [],
   "source": [
    "with open(\"C:\\\\Users\\\\maris\\\\Downloads\\\\sample.txt\",'w') as file:\n",
    "    #file.write(\"hello world\")\n",
    "    file.writelines(['good to see you\\n', 'wertyuio\\n', 'qwertyuio\\n', 'asdfghjkl\\n', 'asdfghjkl\\n', 'zxcvbnm,\\n', '123456789\\n', 'asdfghjkzxcvbnm,\\n', 'qwertyuioasdfghjk']\n",
    ")"
   ]
  },
  {
   "cell_type": "code",
   "execution_count": 15,
   "id": "b2b56540-bfed-4157-9c05-dd54570959fb",
   "metadata": {},
   "outputs": [],
   "source": [
    "with open(\"C:\\\\Users\\\\maris\\\\Downloads\\\\sample.txt\",'a') as file:\n",
    "    #file.write(\"hello world\")\n",
    "    file.writelines(['\\ngood to see you\\n', 'wertyuio\\n', 'qwertyuio\\n', 'asdfghjkl\\n', 'asdfghjkl\\n', 'zxcvbnm,\\n', '123456789\\n', 'asdfghjkzxcvbnm,\\n', 'qwertyuioasdfghjk']\n",
    ")"
   ]
  },
  {
   "cell_type": "code",
   "execution_count": 17,
   "id": "f7c01dcb-ace6-48d9-b20a-a60a6d229485",
   "metadata": {},
   "outputs": [
    {
     "name": "stdout",
     "output_type": "stream",
     "text": [
      "55\n",
      "jkl\n",
      "\n"
     ]
    }
   ],
   "source": [
    "#seek - move the file pointer to a specific position(bytes)\n",
    "# tell() - return the current position \n",
    "\n",
    "with open(\"C:\\\\Users\\\\maris\\\\Downloads\\\\sample.txt\",'r') as file:\n",
    "    file.seek(55)\n",
    "    print(file.tell())\n",
    "    print(file.readline())\n"
   ]
  },
  {
   "cell_type": "code",
   "execution_count": 18,
   "id": "4888bf2a-9c55-46e3-9bf5-5cf6f00fbf1f",
   "metadata": {},
   "outputs": [],
   "source": [
    "## os module operation\n",
    "import os"
   ]
  },
  {
   "cell_type": "code",
   "execution_count": 19,
   "id": "d73aede4-6ed7-4c86-b986-740fec20db52",
   "metadata": {},
   "outputs": [
    {
     "name": "stdout",
     "output_type": "stream",
     "text": [
      "C:\\Users\\maris\n"
     ]
    }
   ],
   "source": [
    "# os.getcwd() - returns the current working directory\n",
    "\n",
    "print(os.getcwd())"
   ]
  },
  {
   "cell_type": "code",
   "execution_count": 20,
   "id": "5383c8d0-f4bd-43e1-a075-d7d704d59d64",
   "metadata": {},
   "outputs": [
    {
     "name": "stdout",
     "output_type": "stream",
     "text": [
      "D:\\\n"
     ]
    }
   ],
   "source": [
    "## os.chdir() - chenge the working dirctory\n",
    "\n",
    "os.chdir(\"D:\\\\\")\n",
    "print(os.getcwd())"
   ]
  },
  {
   "cell_type": "code",
   "execution_count": 22,
   "id": "3f98d9a6-3682-44d1-8daa-2aa1e24ff473",
   "metadata": {},
   "outputs": [
    {
     "name": "stdout",
     "output_type": "stream",
     "text": [
      "False\n"
     ]
    }
   ],
   "source": [
    "## os.path.exists() - checks if a file  or directory exists\n",
    "\n",
    "print(os.path.exists(\"E:\\\\\"))"
   ]
  },
  {
   "cell_type": "code",
   "execution_count": 30,
   "id": "8128faad-e995-4d04-a870-16fde1202517",
   "metadata": {},
   "outputs": [],
   "source": [
    "## os.makedirs() - create directory\n",
    "\n",
    "os.makedirs(\"D:\\\\Tamil_movies\")\n"
   ]
  },
  {
   "cell_type": "code",
   "execution_count": 24,
   "id": "14b4d47f-8e6b-4663-b994-65794f7631da",
   "metadata": {},
   "outputs": [],
   "source": [
    "# os.rename() - file /dirctory\n",
    "\n",
    "os.rename(\"C:\\\\Users\\\\maris\\\\Downloads\\\\sample.txt\",\"C:\\\\Users\\\\maris\\\\Downloads\\\\example.txt\")"
   ]
  },
  {
   "cell_type": "code",
   "execution_count": 25,
   "id": "54ef2de4-3f3d-4dbf-b32a-0e471d4204aa",
   "metadata": {},
   "outputs": [],
   "source": [
    "## os.remove() - delete file\n",
    "\n",
    "os.remove(\"C:\\\\Users\\\\maris\\\\Downloads\\\\example.txt\")"
   ]
  },
  {
   "cell_type": "code",
   "execution_count": 29,
   "id": "fcf60a6d-b7e4-43b3-8199-049467c62586",
   "metadata": {},
   "outputs": [],
   "source": [
    "## os.rmdir() : remove the dirctories only if it is empty\n",
    "\n",
    "os.rmdir(\"D:\\\\Tamil_movies\")"
   ]
  },
  {
   "cell_type": "code",
   "execution_count": 37,
   "id": "7e5e853b-a6f6-436d-9931-bee03c268948",
   "metadata": {},
   "outputs": [
    {
     "name": "stdout",
     "output_type": "stream",
     "text": [
      "root: D:\\Tamil_movies\\new_movies\n",
      "dir : []\n",
      "file: ['11.30 (1).ipynb']\n"
     ]
    }
   ],
   "source": [
    "## os.walk - generates thefile name in directory tree\n",
    "\n",
    "## for root,dirs,file in os.walk(path)\n",
    "    #operations\n",
    "\n",
    "for root,dirs,files in os.walk(\"D:\\\\Tamil_movies\\\\new_movies\"):\n",
    "    print(\"root:\",root)\n",
    "    print(\"dir :\",dirs)\n",
    "    print(\"file:\",files)"
   ]
  },
  {
   "cell_type": "code",
   "execution_count": 38,
   "id": "190cb1b5-2bd2-4cd9-8905-5514178cdaff",
   "metadata": {},
   "outputs": [
    {
     "name": "stdout",
     "output_type": "stream",
     "text": [
      "['.ipynb_checkpoints', '11.30 (1).ipynb', '11.30.ipynb', '2.30_numpy.ipynb', '9am wd (1).ipynb', '9am wd.ipynb', '9am.png', '9am2.png', 'AmazingMartEU2Geo.xlsx', 'Anaconda3-2024.10-1-Windows-x86_64.exe', 'archive', 'archive.zip', 'AWSCLIV2.msi', 'BangaloreDays2014_archive.torrent', 'ChromeSetup.exe', 'DALL·E 2025-01-30 19.38.46 - An abstract and serene digital painting symbolizing a reflective and introspective life. The scene features a peaceful landscape with soft, muted colo.webp', 'DALL·E 2025-01-30 19.45.22 - An abstract and serene digital painting symbolizing a reflective and introspective life. The scene features a peaceful landscape with soft, muted colo.webp', 'data_preprocessing.py', 'desktop.ini', 'dl back.jpg', 'driver lic.jpg', 'Ecommerce_RealTime_Data.csv', 'EpicInstaller-18.0.0-05e5648cd0c74e6bb0e3c878a0c0d0dd.msi', 'Financial Report.pbit', 'Financial Sample (1).xlsx', 'Financial Sample.xlsx', 'GDS_Solution_of_SQL_Class_1_Assignment[1].pdf', 'GDS_SQL_Class_1_Assignment.pdf', 'Git-2.47.1-64-bit.exe', 'Git-2.47.1.2-64-bit.exe', 'GrowDataSkills_Sql_Interview_Bank_1.pdf', 'Integrated Pest Detection and Crop Health Monitoring System Using Advanced Object Detection and Multispectral Imaging-Sarvesh(AI&DS35).pptx', 'mariadb-connector-c-3.4.3-win64 (1).msi', 'mariadb-connector-c-3.4.3-win64.msi', 'Marisha_accessKeys (1).csv', 'Marisha_accessKeys.csv', 'ML CLASSES.zip', 'model_training.py', 'muichiro-tokito-5120x2880-16957.jpg', 'mysql-connector-net-9.1.0.msi', 'mysql-connector-odbc-9.2.0-winx64.msi', 'mysql-installer-community-8.0.40.0.msi', 'mysqlr', 'New folder', 'npp.8.7.5.Installer.x64.exe', 'pan card (1).jpg', 'pan card.jpg', 'processed_transactions.xls', 'puzzle_animation.gif', 'Rea.d', 'Regional Sales Sample.pbix', 'run-1738245359925-part-block-0-r-00000-snappy.parquet', 'run-1739369352468-part-block-0-r-00024-snappy.parquet', 'Sales and Marketing Sample-no-PV.xlsx', 'Sample_Swiggy_Data.zip', 'SimbaAthena_1.2.3.1000_64-bit (1).msi', 'SimbaAthena_1.2.3.1000_64-bit.msi', 'Spotify+Streaming+History', 'Spotify+Streaming+History.zip', 'spotify.png', 'Telegram Desktop', 'Untitled (1).ipynb', 'Untitled.ipynb', 'utweb_installer.exe', 'vlc-3.0.21-win32.exe', 'zoro-sword-pose-one-piece-desktop-wallpaper-preview.jpg']\n"
     ]
    }
   ],
   "source": [
    "# os.listdir() : list all files,dirs\n",
    "\n",
    "print(os.listdir(\"C:\\\\Users\\\\maris\\\\Downloads\"))"
   ]
  },
  {
   "cell_type": "code",
   "execution_count": 1,
   "id": "f09f7d78-e9e1-4216-8c44-4395964a4373",
   "metadata": {},
   "outputs": [],
   "source": [
    "#regex - regular expression\n",
    "\n",
    "import re"
   ]
  },
  {
   "cell_type": "code",
   "execution_count": 4,
   "id": "9f6f14b6-0b5e-4b41-9e04-9de71fdeb611",
   "metadata": {},
   "outputs": [
    {
     "name": "stdout",
     "output_type": "stream",
     "text": [
      "match found: 12345\n"
     ]
    }
   ],
   "source": [
    "#re.search () - function searches for pattern in stringand returns a match object if found\n",
    "\n",
    "text = \"hello , my number is 12345 and my id is 123.\"\n",
    "pattern = r\"\\d+\"\n",
    "\n",
    "match = re.search(pattern,text)\n",
    "if match:\n",
    "    print(\"match found:\",match.group()) #returns the part the string where there is a match"
   ]
  },
  {
   "cell_type": "code",
   "execution_count": 8,
   "id": "5269f84e-fbdd-4340-817a-1333800960f1",
   "metadata": {},
   "outputs": [
    {
     "name": "stdout",
     "output_type": "stream",
     "text": [
      "['100', '20']\n"
     ]
    }
   ],
   "source": [
    "#re.findall - returns all match in a list\n",
    "\n",
    "txt = \"this price is 100 rupees and the discount is 20 rupees\"\n",
    "matches = re.findall(pattern,txt)\n",
    "print(matches)"
   ]
  },
  {
   "cell_type": "code",
   "execution_count": 10,
   "id": "eaba6521-0b90-4d1d-a960-496fe3e07c53",
   "metadata": {},
   "outputs": [],
   "source": [
    "#re.match() - checks if the pattern appear at the beginning of string\n",
    "\n",
    "pattern = r\"This\"\n",
    "match = re.match(pattern,txt)\n",
    "if match:\n",
    "    print(\"match found;\",match.group())"
   ]
  },
  {
   "cell_type": "code",
   "execution_count": 12,
   "id": "48f6a4a7-6396-4e2a-b2e6-297d8c9e3f76",
   "metadata": {},
   "outputs": [
    {
     "name": "stdout",
     "output_type": "stream",
     "text": [
      "my mail id is marisha@gmail.com\n"
     ]
    }
   ],
   "source": [
    "#re.sub() - function replaces matcheswith give string\n",
    "\n",
    "text = \"my mail id is marisha@example.com\"\n",
    "pattern = r\"\\S+@\\S+\"\n",
    "\n",
    "new_txt = re.sub(pattern,\"marisha@gmail.com\",text)\n",
    "print(new_txt)"
   ]
  },
  {
   "cell_type": "code",
   "execution_count": null,
   "id": "8fdda971-aaa2-4963-b715-a04965c8f036",
   "metadata": {},
   "outputs": [],
   "source": [
    "#flags - modify regex behavior\n",
    "\n",
    "## re.IGORECASE(re.I) - case inssensitive\n",
    "#re.MULTILINE (re.M)  - multiline match\n",
    "# re.DOTALL "
   ]
  },
  {
   "cell_type": "code",
   "execution_count": 13,
   "id": "3131d40b-f9b7-4c9f-82ab-9cd5c05506b6",
   "metadata": {},
   "outputs": [
    {
     "name": "stdout",
     "output_type": "stream",
     "text": [
      "Hello\n"
     ]
    }
   ],
   "source": [
    "text = \"Hello World\"\n",
    "pattern = r\"hello\"\n",
    "\n",
    "match= re.search(pattern,text,re.I)\n",
    "print(match.group())"
   ]
  },
  {
   "cell_type": "code",
   "execution_count": 15,
   "id": "801d5ac3-0c04-4fcf-b40e-b80612bd0569",
   "metadata": {},
   "outputs": [
    {
     "name": "stdout",
     "output_type": "stream",
     "text": [
      "second\n"
     ]
    }
   ],
   "source": [
    "text = \"\"\" first line\n",
    "second line\n",
    "third line\"\"\"\n",
    "\n",
    "pattern = r\"^second\"\n",
    "\n",
    "match = re.search(pattern,text,re.MULTILINE)\n",
    "print(match.group())"
   ]
  },
  {
   "cell_type": "code",
   "execution_count": 17,
   "id": "f6a8e964-221d-4846-91a6-2d4b24ea481f",
   "metadata": {},
   "outputs": [
    {
     "name": "stdout",
     "output_type": "stream",
     "text": [
      "Hello\n",
      "World\n"
     ]
    }
   ],
   "source": [
    "text = \"Hello\\nWorld\\nHI\"\n",
    "\n",
    "pattern = r\"Hello.*World\"\n",
    "\n",
    "match = re.search(pattern,text,re.DOTALL)\n",
    "print(match.group())"
   ]
  },
  {
   "cell_type": "code",
   "execution_count": 1,
   "id": "cfb67274-79b1-467c-a09e-7ceda2c68b51",
   "metadata": {},
   "outputs": [],
   "source": [
    "#Numpy - Python library ,numerical computations,support for arrays,matrics,mathematical operations\n",
    "\n",
    "import numpy as np"
   ]
  },
  {
   "cell_type": "code",
   "execution_count": 2,
   "id": "893cd83e-bb07-4cea-9a62-ed3df46fac3f",
   "metadata": {},
   "outputs": [
    {
     "name": "stdout",
     "output_type": "stream",
     "text": [
      "[1 2 3]\n"
     ]
    }
   ],
   "source": [
    "arr = np.array([1,2,3])\n",
    "print(arr)"
   ]
  },
  {
   "cell_type": "code",
   "execution_count": 3,
   "id": "766ff24f-764c-44a1-9757-f41c2ffcaf12",
   "metadata": {},
   "outputs": [
    {
     "name": "stdout",
     "output_type": "stream",
     "text": [
      "[2, 4, 6]\n",
      "[2 4 6]\n"
     ]
    }
   ],
   "source": [
    "##list vs array\n",
    "\n",
    "#list example\n",
    "lst = [1,2,3]\n",
    "print([x*2 for x in lst])\n",
    "\n",
    "## numpy array\n",
    "arr = np.array([1,2,3])\n",
    "print(arr * 2)"
   ]
  },
  {
   "cell_type": "code",
   "execution_count": 6,
   "id": "84097387-3db9-4f55-a0f7-16bfc7d575b1",
   "metadata": {},
   "outputs": [
    {
     "name": "stdout",
     "output_type": "stream",
     "text": [
      "[1 2 3 3 5 6 7 8]\n",
      "[1 2 3]\n"
     ]
    }
   ],
   "source": [
    "## append : adds element to a numpyarray,unlike list,no.append create a new array - np.append(arr,values)\n",
    "\n",
    "arr = np.array([1,2,3])\n",
    "new_arr = np.append(arr,[3,5,6,7,8])\n",
    "print(new_arr)\n",
    "print(arr)"
   ]
  },
  {
   "cell_type": "code",
   "execution_count": 5,
   "id": "8af6e1bd-197d-433a-b163-d73d1be22165",
   "metadata": {},
   "outputs": [
    {
     "name": "stdout",
     "output_type": "stream",
     "text": [
      "[1 2 3]\n",
      "[10  2  3]\n"
     ]
    }
   ],
   "source": [
    "#copy - create a copy of a numpy array,modifying the copy does not affect the original array- arr_copy = arr.copy()\n",
    "arr_copy = arr.copy()\n",
    "arr_copy[0] = 10\n",
    "print(arr)\n",
    "print(arr_copy)"
   ]
  },
  {
   "cell_type": "code",
   "execution_count": 7,
   "id": "8fb6257f-b7ac-49df-9037-e1cda221177d",
   "metadata": {},
   "outputs": [
    {
     "name": "stdout",
     "output_type": "stream",
     "text": [
      "[[1 2 3]\n",
      " [4 5 6]\n",
      " [7 8 9]]\n"
     ]
    }
   ],
   "source": [
    "#reshape - chnage the shape of an array without changing its data - arr.reshape(new_shape)\n",
    "\n",
    "arr = np.array([1,2,3,4,5,6,7,8,9])\n",
    "reshape = arr.reshape(3,3)\n",
    "print(reshape)"
   ]
  },
  {
   "cell_type": "code",
   "execution_count": 8,
   "id": "c75c845d-3f4d-49e5-af80-8260d7344db6",
   "metadata": {},
   "outputs": [
    {
     "name": "stdout",
     "output_type": "stream",
     "text": [
      "[[0. 0. 0.]\n",
      " [0. 0. 0.]]\n"
     ]
    }
   ],
   "source": [
    "#zero - creats an array filled with zeros\n",
    "\n",
    "arr = np.zeros((2,3))\n",
    "print(arr)"
   ]
  },
  {
   "cell_type": "code",
   "execution_count": 9,
   "id": "545985ab-1cdc-4405-94fd-e79a3278af05",
   "metadata": {},
   "outputs": [
    {
     "name": "stdout",
     "output_type": "stream",
     "text": [
      "[[1. 1. 1.]\n",
      " [1. 1. 1.]]\n"
     ]
    }
   ],
   "source": [
    "#ones - creat an array filled with ones\n",
    "arr = np.ones((2,3))\n",
    "print(arr)"
   ]
  },
  {
   "cell_type": "code",
   "execution_count": 12,
   "id": "36ddd7db-4d6f-45eb-aa25-a7196359b50e",
   "metadata": {},
   "outputs": [
    {
     "name": "stdout",
     "output_type": "stream",
     "text": [
      "[[1. 0. 0. 0. 0.]\n",
      " [0. 1. 0. 0. 0.]\n",
      " [0. 0. 1. 0. 0.]\n",
      " [0. 0. 0. 1. 0.]\n",
      " [0. 0. 0. 0. 1.]]\n"
     ]
    }
   ],
   "source": [
    "#eye - creates an identity matrix - np.eye(n)\n",
    "arr = np.eye(5)\n",
    "print(arr)"
   ]
  },
  {
   "cell_type": "code",
   "execution_count": 13,
   "id": "b014891b-950a-45aa-98c8-48b1017d29ee",
   "metadata": {},
   "outputs": [
    {
     "name": "stdout",
     "output_type": "stream",
     "text": [
      "[[7 7 7]\n",
      " [7 7 7]]\n"
     ]
    }
   ],
   "source": [
    "#full - creates an array with a specified value - np.full(shape,value)\n",
    "\n",
    "arr = np.full((2,3),7)\n",
    "print(arr)"
   ]
  },
  {
   "cell_type": "code",
   "execution_count": 14,
   "id": "6ea8f83b-8cf5-4ccf-8d21-e6d91ea8a8a8",
   "metadata": {},
   "outputs": [
    {
     "name": "stdout",
     "output_type": "stream",
     "text": [
      "[0.   0.25 0.5  0.75 1.  ]\n"
     ]
    }
   ],
   "source": [
    "#numpy.linspace - generates an array of evenly spaced number over a specified range\n",
    "\n",
    "arr = np.linspace(0,1,5)\n",
    "print(arr)"
   ]
  },
  {
   "cell_type": "code",
   "execution_count": null,
   "id": "16fb0973-1569-4728-a0c5-806c7efa3a4b",
   "metadata": {},
   "outputs": [],
   "source": [
    "step = step = (stop - start) / (num - 1) = 0.25\n",
    "0\n",
    "0 +0.25 = 0.25\n",
    "0.25 +0.25 = 0.5\n",
    "0.5 + 0.25 = 0.75\n",
    "075 + 0.25 = 1.0"
   ]
  },
  {
   "cell_type": "code",
   "execution_count": 15,
   "id": "a4392684-fbc4-4152-8eb0-1e8f3deea8b1",
   "metadata": {},
   "outputs": [
    {
     "name": "stdout",
     "output_type": "stream",
     "text": [
      "[0 2 4 6 8]\n"
     ]
    }
   ],
   "source": [
    "#arange - generates evenly spaced value within a range - np.arange(start,stop,step)\n",
    "\n",
    "arr = np.arange(0,10,2)\n",
    "print(arr)"
   ]
  },
  {
   "cell_type": "code",
   "execution_count": 19,
   "id": "18199c3e-62ff-4c9b-a675-9fa8e45d11ec",
   "metadata": {},
   "outputs": [
    {
     "name": "stdout",
     "output_type": "stream",
     "text": [
      "[1 2 3 4]\n"
     ]
    }
   ],
   "source": [
    "#concat - join two or more array- np.concatenation((arr1,arr2))\n",
    "arr1 = np.array([1,2])\n",
    "arr2 = np.array([3,4])\n",
    "result = np.concatenate((arr1,arr2))\n",
    "print(result)"
   ]
  },
  {
   "cell_type": "code",
   "execution_count": 20,
   "id": "448e158a-730d-43d0-be56-197b44feee7a",
   "metadata": {},
   "outputs": [
    {
     "name": "stdout",
     "output_type": "stream",
     "text": [
      "[[1 2]\n",
      " [3 4]]\n",
      "[[1 3]\n",
      " [2 4]]\n"
     ]
    }
   ],
   "source": [
    "# Transpose - flips rows and columns of 2d array - arr.T\n",
    "arr=np.array([[1,2],[3,4]])\n",
    "print(arr)\n",
    "print(arr.T)"
   ]
  },
  {
   "cell_type": "code",
   "execution_count": 23,
   "id": "fb6895f0-3623-4639-8de8-1afbacd7e8bd",
   "metadata": {},
   "outputs": [
    {
     "name": "stdout",
     "output_type": "stream",
     "text": [
      "[[0.77137689 0.63284303 0.09036926]\n",
      " [0.31861708 0.9284682  0.0426988 ]\n",
      " [0.09360552 0.69171161 0.84391008]]\n"
     ]
    }
   ],
   "source": [
    "#random - generates random num or arrays 0 to1 - np.random.random(size)\n",
    "\n",
    "arr = np.random.random((3,3))\n",
    "print(arr)"
   ]
  },
  {
   "cell_type": "code",
   "execution_count": 24,
   "id": "821c6b51-b25a-488f-a04c-d631509e427f",
   "metadata": {},
   "outputs": [
    {
     "name": "stdout",
     "output_type": "stream",
     "text": [
      "[0 0 0 0 0 0 7 8 9]\n"
     ]
    }
   ],
   "source": [
    "#numpy where - returns elements based on conditions\n",
    "\n",
    "#np.where(condition,x,y)\n",
    "arr = np.array([1,2,3,4,5,6,7,8,9])\n",
    "result = np.where(arr>6,arr,0)\n",
    "print(result)"
   ]
  },
  {
   "cell_type": "code",
   "execution_count": 25,
   "id": "0350b446-76d7-49dd-9a5e-f8d8a25471d0",
   "metadata": {},
   "outputs": [
    {
     "name": "stdout",
     "output_type": "stream",
     "text": [
      "[ 2  4  6  8  0 -6 -7 -8 -9]\n"
     ]
    }
   ],
   "source": [
    "#select - applies conditions and chooses from multiple array\n",
    "arr = np.array([1,2,3,4,5,6,7,8,9])\n",
    "conditions= [arr<5,arr>=6]\n",
    "choices = [arr*2,arr *-1]\n",
    "result = np.select(conditions,choices,default = 0)\n",
    "print(result)\n"
   ]
  },
  {
   "cell_type": "code",
   "execution_count": null,
   "id": "d472ac15-59a5-4024-aee6-ea00807049e7",
   "metadata": {},
   "outputs": [],
   "source": [
    "#Sql Python Integration"
   ]
  },
  {
   "cell_type": "code",
   "execution_count": 1,
   "id": "8e3bd622-4f2c-4d93-87f2-373a0ef2f103",
   "metadata": {},
   "outputs": [
    {
     "name": "stdout",
     "output_type": "stream",
     "text": [
      "Defaulting to user installation because normal site-packages is not writeable\n",
      "Requirement already satisfied: mysql-connector-python in c:\\users\\maris\\appdata\\roaming\\python\\python312\\site-packages (9.2.0)\n"
     ]
    }
   ],
   "source": [
    "!pip install mysql-connector-python"
   ]
  },
  {
   "cell_type": "code",
   "execution_count": 7,
   "id": "32ab056d-f283-4d13-b6ec-7121a535c43c",
   "metadata": {},
   "outputs": [
    {
     "name": "stdout",
     "output_type": "stream",
     "text": [
      "connected\n"
     ]
    }
   ],
   "source": [
    "import mysql.connector\n",
    "\n",
    "conn = mysql.connector.connect(\n",
    "    host=\"localhost\",\n",
    "    port=\"3306\",\n",
    "    user = \"root\",\n",
    "    password=\"root\",\n",
    "    database = \"pydummmy\"\n",
    ")\n",
    "\n",
    "cursor = conn.cursor()\n",
    "\n",
    "if conn.is_connected():\n",
    "    print(\"connected\")"
   ]
  },
  {
   "cell_type": "code",
   "execution_count": 3,
   "id": "e2ceb378-9fa3-4a6a-adcc-4b7d63f84e15",
   "metadata": {},
   "outputs": [
    {
     "name": "stdout",
     "output_type": "stream",
     "text": [
      "db created\n"
     ]
    }
   ],
   "source": [
    "cursor.execute(\"create database pydummmy\")\n",
    "print(\"db created\")"
   ]
  },
  {
   "cell_type": "code",
   "execution_count": 4,
   "id": "49d767d6-afbe-4097-8938-76b33ac24c5a",
   "metadata": {},
   "outputs": [
    {
     "name": "stdout",
     "output_type": "stream",
     "text": [
      "('amazon',)\n",
      "('batch_120',)\n",
      "('batch_131',)\n",
      "('customer_data',)\n",
      "('db_proj',)\n",
      "('dum',)\n",
      "('dummy_proj',)\n",
      "('example',)\n",
      "('flipkart',)\n",
      "('hilton',)\n",
      "('information_schema',)\n",
      "('loanapp',)\n",
      "('meesho',)\n",
      "('my_proj',)\n",
      "('mysql',)\n",
      "('performance_schema',)\n",
      "('py_db',)\n",
      "('pydummmy',)\n",
      "('sales_data',)\n"
     ]
    }
   ],
   "source": [
    "cursor.execute(\"show databases\")\n",
    "for db in cursor:\n",
    "    print(db)"
   ]
  },
  {
   "cell_type": "code",
   "execution_count": 8,
   "id": "4670063e-a694-4adf-8a7d-d9f3774b7cc4",
   "metadata": {},
   "outputs": [
    {
     "name": "stdout",
     "output_type": "stream",
     "text": [
      "table created\n"
     ]
    }
   ],
   "source": [
    "cursor.execute(\"create table student_details(id int,name char(100),section char)\")\n",
    "\n",
    "print(\"table created\")"
   ]
  },
  {
   "cell_type": "code",
   "execution_count": 9,
   "id": "ca3d685b-2d61-4be4-8255-2058d564c091",
   "metadata": {},
   "outputs": [],
   "source": [
    "cursor.execute(\"insert into student_details value(%s,%s,%s)\",(1,\"Arun\",\"A\"))\n",
    "conn.commit() "
   ]
  },
  {
   "cell_type": "code",
   "execution_count": 10,
   "id": "6ee18bdd-bfc0-42a0-9e38-20547466c8d1",
   "metadata": {},
   "outputs": [
    {
     "data": {
      "text/plain": [
       "[(1, 'Arun', 'A')]"
      ]
     },
     "execution_count": 10,
     "metadata": {},
     "output_type": "execute_result"
    }
   ],
   "source": [
    "cursor.execute(\"Select * from student_details\")\n",
    "cursor.fetchall()\n"
   ]
  },
  {
   "cell_type": "code",
   "execution_count": null,
   "id": "678e684b-978a-477e-bde9-ff2d76f08d0a",
   "metadata": {},
   "outputs": [],
   "source": [
    "##Pandas"
   ]
  },
  {
   "cell_type": "code",
   "execution_count": 11,
   "id": "adb41727-d1ca-4ad9-b545-c9cfa6ac3411",
   "metadata": {},
   "outputs": [
    {
     "name": "stdout",
     "output_type": "stream",
     "text": [
      "a    1\n",
      "b    2\n",
      "c    3\n",
      "d    4\n",
      "e    5\n",
      "dtype: int64\n"
     ]
    }
   ],
   "source": [
    "#Series - one dimensional array_like containing data of anytype along with associated index\n",
    "import pandas as pd\n",
    "s=pd.Series([1,2,3,4,5],index=['a','b','c','d','e'])\n",
    "print(s)"
   ]
  },
  {
   "cell_type": "code",
   "execution_count": 12,
   "id": "b68b0041-366d-4d3f-b699-5e5fe3c7653b",
   "metadata": {},
   "outputs": [
    {
     "name": "stdout",
     "output_type": "stream",
     "text": [
      "    Name  Age\n",
      "0  Alice   23\n",
      "1    Bob   45\n",
      "2  Jenny   67\n"
     ]
    }
   ],
   "source": [
    "##Dataframe - two -dimensional labled data structure with rows and columnsof potentially differnet types\n",
    "\n",
    "data = {'Name':[\"Alice\",\"Bob\",\"Jenny\"],\"Age\":[23,45,67]}\n",
    "\n",
    "df=pd.DataFrame(data)\n",
    "print(df)"
   ]
  },
  {
   "cell_type": "code",
   "execution_count": 20,
   "id": "f9dd62bc-0aa5-48e3-b3ec-ea3aad735356",
   "metadata": {},
   "outputs": [
    {
     "name": "stdout",
     "output_type": "stream",
     "text": [
      "              artist                                    song  duration_ms  \\\n",
      "0     Britney Spears                  Oops!...I Did It Again       211160   \n",
      "1          blink-182                    All The Small Things       167066   \n",
      "2         Faith Hill                                 Breathe       250546   \n",
      "3           Bon Jovi                            It's My Life       224493   \n",
      "4             *NSYNC                             Bye Bye Bye       200560   \n",
      "...              ...                                     ...          ...   \n",
      "1995  Jonas Brothers                                  Sucker       181026   \n",
      "1996    Taylor Swift                            Cruel Summer       178426   \n",
      "1997    Blanco Brown                              The Git Up       200593   \n",
      "1998       Sam Smith  Dancing With A Stranger (with Normani)       171029   \n",
      "1999     Post Malone                                 Circles       215280   \n",
      "\n",
      "      explicit  year  popularity  danceability  energy  key  loudness  mode  \\\n",
      "0        False  2000          77         0.751   0.834    1    -5.444     0   \n",
      "1        False  1999          79         0.434   0.897    0    -4.918     1   \n",
      "2        False  1999          66         0.529   0.496    7    -9.007     1   \n",
      "3        False  2000          78         0.551   0.913    0    -4.063     0   \n",
      "4        False  2000          65         0.614   0.928    8    -4.806     0   \n",
      "...        ...   ...         ...           ...     ...  ...       ...   ...   \n",
      "1995     False  2019          79         0.842   0.734    1    -5.065     0   \n",
      "1996     False  2019          78         0.552   0.702    9    -5.707     1   \n",
      "1997     False  2019          69         0.847   0.678    9    -8.635     1   \n",
      "1998     False  2019          75         0.741   0.520    8    -7.513     1   \n",
      "1999     False  2019          85         0.695   0.762    0    -3.497     1   \n",
      "\n",
      "      speechiness  acousticness  instrumentalness  liveness  valence    tempo  \\\n",
      "0          0.0437        0.3000          0.000018    0.3550    0.894   95.053   \n",
      "1          0.0488        0.0103          0.000000    0.6120    0.684  148.726   \n",
      "2          0.0290        0.1730          0.000000    0.2510    0.278  136.859   \n",
      "3          0.0466        0.0263          0.000013    0.3470    0.544  119.992   \n",
      "4          0.0516        0.0408          0.001040    0.0845    0.879  172.656   \n",
      "...           ...           ...               ...       ...      ...      ...   \n",
      "1995       0.0588        0.0427          0.000000    0.1060    0.952  137.958   \n",
      "1996       0.1570        0.1170          0.000021    0.1050    0.564  169.994   \n",
      "1997       0.1090        0.0669          0.000000    0.2740    0.811   97.984   \n",
      "1998       0.0656        0.4500          0.000002    0.2220    0.347  102.998   \n",
      "1999       0.0395        0.1920          0.002440    0.0863    0.553  120.042   \n",
      "\n",
      "                 genre  \n",
      "0                  pop  \n",
      "1            rock, pop  \n",
      "2         pop, country  \n",
      "3          rock, metal  \n",
      "4                  pop  \n",
      "...                ...  \n",
      "1995               pop  \n",
      "1996               pop  \n",
      "1997  hip hop, country  \n",
      "1998               pop  \n",
      "1999           hip hop  \n",
      "\n",
      "[2000 rows x 18 columns]\n"
     ]
    }
   ],
   "source": [
    "#readfile - reads various file format such as csv,excel,json etc\n",
    "\n",
    "#csv\n",
    "\n",
    "df= pd.read_csv(\"C:\\\\Users\\\\maris\\\\Downloads\\\\songs_normalize.csv\")\n",
    "print(df)"
   ]
  },
  {
   "cell_type": "code",
   "execution_count": null,
   "id": "94c55760-6e57-4939-8243-ab9dec22e323",
   "metadata": {},
   "outputs": [],
   "source": [
    "#excel - pd.read_excel(\"file path\")\n",
    "#json - pd.read_json(\"file path\")"
   ]
  },
  {
   "cell_type": "code",
   "execution_count": 15,
   "id": "7611a110-d4a1-42f5-a3be-015a2c6c498d",
   "metadata": {},
   "outputs": [
    {
     "name": "stdout",
     "output_type": "stream",
     "text": [
      "              artist                                    song  duration_ms  \\\n",
      "0     Britney Spears                  Oops!...I Did It Again       211160   \n",
      "1          blink-182                    All The Small Things       167066   \n",
      "2         Faith Hill                                 Breathe       250546   \n",
      "3           Bon Jovi                            It's My Life       224493   \n",
      "4             *NSYNC                             Bye Bye Bye       200560   \n",
      "...              ...                                     ...          ...   \n",
      "1995  Jonas Brothers                                  Sucker       181026   \n",
      "1996    Taylor Swift                            Cruel Summer       178426   \n",
      "1997    Blanco Brown                              The Git Up       200593   \n",
      "1998       Sam Smith  Dancing With A Stranger (with Normani)       171029   \n",
      "1999     Post Malone                                 Circles       215280   \n",
      "\n",
      "      explicit  year  popularity  danceability  energy  key  loudness  mode  \\\n",
      "0        False  2000          77         0.751   0.834    1    -5.444     0   \n",
      "1        False  1999          79         0.434   0.897    0    -4.918     1   \n",
      "2        False  1999          66         0.529   0.496    7    -9.007     1   \n",
      "3        False  2000          78         0.551   0.913    0    -4.063     0   \n",
      "4        False  2000          65         0.614   0.928    8    -4.806     0   \n",
      "...        ...   ...         ...           ...     ...  ...       ...   ...   \n",
      "1995     False  2019          79         0.842   0.734    1    -5.065     0   \n",
      "1996     False  2019          78         0.552   0.702    9    -5.707     1   \n",
      "1997     False  2019          69         0.847   0.678    9    -8.635     1   \n",
      "1998     False  2019          75         0.741   0.520    8    -7.513     1   \n",
      "1999     False  2019          85         0.695   0.762    0    -3.497     1   \n",
      "\n",
      "      speechiness  instrumentalness  liveness  valence    tempo  \\\n",
      "0          0.0437          0.000018    0.3550    0.894   95.053   \n",
      "1          0.0488          0.000000    0.6120    0.684  148.726   \n",
      "2          0.0290          0.000000    0.2510    0.278  136.859   \n",
      "3          0.0466          0.000013    0.3470    0.544  119.992   \n",
      "4          0.0516          0.001040    0.0845    0.879  172.656   \n",
      "...           ...               ...       ...      ...      ...   \n",
      "1995       0.0588          0.000000    0.1060    0.952  137.958   \n",
      "1996       0.1570          0.000021    0.1050    0.564  169.994   \n",
      "1997       0.1090          0.000000    0.2740    0.811   97.984   \n",
      "1998       0.0656          0.000002    0.2220    0.347  102.998   \n",
      "1999       0.0395          0.002440    0.0863    0.553  120.042   \n",
      "\n",
      "                 genre  \n",
      "0                  pop  \n",
      "1            rock, pop  \n",
      "2         pop, country  \n",
      "3          rock, metal  \n",
      "4                  pop  \n",
      "...                ...  \n",
      "1995               pop  \n",
      "1996               pop  \n",
      "1997  hip hop, country  \n",
      "1998               pop  \n",
      "1999           hip hop  \n",
      "\n",
      "[2000 rows x 17 columns]\n"
     ]
    }
   ],
   "source": [
    "#Axis,info,Describe - axis paramenter is used invarious pandas function likedrop(),sum(),apply),...\n",
    "#axis = 0 - operates on row\n",
    "#axis =1 - columns\n",
    "\n",
    "#drop() - column/row\n",
    "\n",
    "df_drop = df.drop('acousticness',axis=1)\n",
    "print(df_drop)"
   ]
  },
  {
   "cell_type": "code",
   "execution_count": 16,
   "id": "0c1f3d25-1a65-48b3-9aae-31e5335f8aa2",
   "metadata": {},
   "outputs": [
    {
     "name": "stdout",
     "output_type": "stream",
     "text": [
      "artist              Britney Spearsblink-182Faith HillBon Jovi*NSYN...\n",
      "song                Oops!...I Did It AgainAll The Small ThingsBrea...\n",
      "duration_ms                                                 457496249\n",
      "explicit                                                          551\n",
      "year                                                          4018988\n",
      "popularity                                                     119745\n",
      "danceability                                                 1334.875\n",
      "energy                                                       1440.732\n",
      "key                                                             10756\n",
      "loudness                                                   -11024.869\n",
      "mode                                                             1107\n",
      "speechiness                                                  207.1354\n",
      "acousticness                                               257.909856\n",
      "instrumentalness                                            30.451981\n",
      "liveness                                                     362.4316\n",
      "valence                                                     1103.3793\n",
      "tempo                                                      240245.115\n",
      "genre               poprock, poppop, countryrock, metalpophip hop,...\n",
      "dtype: object\n"
     ]
    }
   ],
   "source": [
    "row_sum=df.sum(axis=0)\n",
    "print(row_sum)"
   ]
  },
  {
   "cell_type": "code",
   "execution_count": 17,
   "id": "fc5fd936-494d-4f7f-843d-7a61dcb493a7",
   "metadata": {},
   "outputs": [
    {
     "name": "stdout",
     "output_type": "stream",
     "text": [
      "   A   B   C\n",
      "0  1  16  49\n",
      "1  4  25  64\n",
      "2  9  36  81\n"
     ]
    }
   ],
   "source": [
    "#apply - applies a customize functionto each rpws of column\n",
    "df=pd.DataFrame({'A':[1,2,3],'B':[4,5,6],'C':[7,8,9]})\n",
    "def square(x):\n",
    "    return x ** 2\n",
    "\n",
    "column_apply = df.apply(square,axis=0)\n",
    "print(column_apply)"
   ]
  },
  {
   "cell_type": "code",
   "execution_count": 19,
   "id": "cc0930b7-c452-4c6e-8bde-990dc673f59d",
   "metadata": {},
   "outputs": [
    {
     "name": "stdout",
     "output_type": "stream",
     "text": [
      "0    12\n",
      "1    15\n",
      "2    18\n",
      "dtype: int64\n"
     ]
    }
   ],
   "source": [
    "df=pd.DataFrame({'A':[1,2,3],'B':[4,5,6],'C':[7,8,9]})\n",
    "\n",
    "\n",
    "column_apply = df.apply(lambda x:x.sum(),axis=1)\n",
    "print(column_apply)"
   ]
  },
  {
   "cell_type": "code",
   "execution_count": null,
   "id": "234165ff-9382-4aca-b918-c1d495e81e76",
   "metadata": {},
   "outputs": [],
   "source": [
    "#sum() - axis =0 , sum of each column\n",
    "#sum() - axis =1 ,sum of each row"
   ]
  },
  {
   "cell_type": "code",
   "execution_count": null,
   "id": "9ac29aac-e3dc-4667-83aa-bb585f22919e",
   "metadata": {},
   "outputs": [],
   "source": [
    "#info() - it provide metadata about data framewhich include\n",
    "- number non null values\n",
    "- data types\n",
    "- memory usage"
   ]
  },
  {
   "cell_type": "code",
   "execution_count": 21,
   "id": "729e0326-ba69-4308-9222-6bbd6be0b939",
   "metadata": {},
   "outputs": [
    {
     "name": "stdout",
     "output_type": "stream",
     "text": [
      "<class 'pandas.core.frame.DataFrame'>\n",
      "RangeIndex: 2000 entries, 0 to 1999\n",
      "Data columns (total 18 columns):\n",
      " #   Column            Non-Null Count  Dtype  \n",
      "---  ------            --------------  -----  \n",
      " 0   artist            2000 non-null   object \n",
      " 1   song              2000 non-null   object \n",
      " 2   duration_ms       2000 non-null   int64  \n",
      " 3   explicit          2000 non-null   bool   \n",
      " 4   year              2000 non-null   int64  \n",
      " 5   popularity        2000 non-null   int64  \n",
      " 6   danceability      2000 non-null   float64\n",
      " 7   energy            2000 non-null   float64\n",
      " 8   key               2000 non-null   int64  \n",
      " 9   loudness          2000 non-null   float64\n",
      " 10  mode              2000 non-null   int64  \n",
      " 11  speechiness       2000 non-null   float64\n",
      " 12  acousticness      2000 non-null   float64\n",
      " 13  instrumentalness  2000 non-null   float64\n",
      " 14  liveness          2000 non-null   float64\n",
      " 15  valence           2000 non-null   float64\n",
      " 16  tempo             2000 non-null   float64\n",
      " 17  genre             2000 non-null   object \n",
      "dtypes: bool(1), float64(9), int64(5), object(3)\n",
      "memory usage: 267.7+ KB\n"
     ]
    }
   ],
   "source": [
    "df.info()"
   ]
  },
  {
   "cell_type": "code",
   "execution_count": 22,
   "id": "b49612a9-4d38-4151-8c8d-ac5219b892d9",
   "metadata": {},
   "outputs": [
    {
     "data": {
      "text/html": [
       "<div>\n",
       "<style scoped>\n",
       "    .dataframe tbody tr th:only-of-type {\n",
       "        vertical-align: middle;\n",
       "    }\n",
       "\n",
       "    .dataframe tbody tr th {\n",
       "        vertical-align: top;\n",
       "    }\n",
       "\n",
       "    .dataframe thead th {\n",
       "        text-align: right;\n",
       "    }\n",
       "</style>\n",
       "<table border=\"1\" class=\"dataframe\">\n",
       "  <thead>\n",
       "    <tr style=\"text-align: right;\">\n",
       "      <th></th>\n",
       "      <th>duration_ms</th>\n",
       "      <th>year</th>\n",
       "      <th>popularity</th>\n",
       "      <th>danceability</th>\n",
       "      <th>energy</th>\n",
       "      <th>key</th>\n",
       "      <th>loudness</th>\n",
       "      <th>mode</th>\n",
       "      <th>speechiness</th>\n",
       "      <th>acousticness</th>\n",
       "      <th>instrumentalness</th>\n",
       "      <th>liveness</th>\n",
       "      <th>valence</th>\n",
       "      <th>tempo</th>\n",
       "    </tr>\n",
       "  </thead>\n",
       "  <tbody>\n",
       "    <tr>\n",
       "      <th>count</th>\n",
       "      <td>2000.000000</td>\n",
       "      <td>2000.00000</td>\n",
       "      <td>2000.000000</td>\n",
       "      <td>2000.000000</td>\n",
       "      <td>2000.000000</td>\n",
       "      <td>2000.000000</td>\n",
       "      <td>2000.000000</td>\n",
       "      <td>2000.000000</td>\n",
       "      <td>2000.000000</td>\n",
       "      <td>2000.000000</td>\n",
       "      <td>2000.000000</td>\n",
       "      <td>2000.000000</td>\n",
       "      <td>2000.000000</td>\n",
       "      <td>2000.000000</td>\n",
       "    </tr>\n",
       "    <tr>\n",
       "      <th>mean</th>\n",
       "      <td>228748.124500</td>\n",
       "      <td>2009.49400</td>\n",
       "      <td>59.872500</td>\n",
       "      <td>0.667438</td>\n",
       "      <td>0.720366</td>\n",
       "      <td>5.378000</td>\n",
       "      <td>-5.512434</td>\n",
       "      <td>0.553500</td>\n",
       "      <td>0.103568</td>\n",
       "      <td>0.128955</td>\n",
       "      <td>0.015226</td>\n",
       "      <td>0.181216</td>\n",
       "      <td>0.551690</td>\n",
       "      <td>120.122558</td>\n",
       "    </tr>\n",
       "    <tr>\n",
       "      <th>std</th>\n",
       "      <td>39136.569008</td>\n",
       "      <td>5.85996</td>\n",
       "      <td>21.335577</td>\n",
       "      <td>0.140416</td>\n",
       "      <td>0.152745</td>\n",
       "      <td>3.615059</td>\n",
       "      <td>1.933482</td>\n",
       "      <td>0.497254</td>\n",
       "      <td>0.096159</td>\n",
       "      <td>0.173346</td>\n",
       "      <td>0.087771</td>\n",
       "      <td>0.140669</td>\n",
       "      <td>0.220864</td>\n",
       "      <td>26.967112</td>\n",
       "    </tr>\n",
       "    <tr>\n",
       "      <th>min</th>\n",
       "      <td>113000.000000</td>\n",
       "      <td>1998.00000</td>\n",
       "      <td>0.000000</td>\n",
       "      <td>0.129000</td>\n",
       "      <td>0.054900</td>\n",
       "      <td>0.000000</td>\n",
       "      <td>-20.514000</td>\n",
       "      <td>0.000000</td>\n",
       "      <td>0.023200</td>\n",
       "      <td>0.000019</td>\n",
       "      <td>0.000000</td>\n",
       "      <td>0.021500</td>\n",
       "      <td>0.038100</td>\n",
       "      <td>60.019000</td>\n",
       "    </tr>\n",
       "    <tr>\n",
       "      <th>25%</th>\n",
       "      <td>203580.000000</td>\n",
       "      <td>2004.00000</td>\n",
       "      <td>56.000000</td>\n",
       "      <td>0.581000</td>\n",
       "      <td>0.622000</td>\n",
       "      <td>2.000000</td>\n",
       "      <td>-6.490250</td>\n",
       "      <td>0.000000</td>\n",
       "      <td>0.039600</td>\n",
       "      <td>0.014000</td>\n",
       "      <td>0.000000</td>\n",
       "      <td>0.088100</td>\n",
       "      <td>0.386750</td>\n",
       "      <td>98.985750</td>\n",
       "    </tr>\n",
       "    <tr>\n",
       "      <th>50%</th>\n",
       "      <td>223279.500000</td>\n",
       "      <td>2010.00000</td>\n",
       "      <td>65.500000</td>\n",
       "      <td>0.676000</td>\n",
       "      <td>0.736000</td>\n",
       "      <td>6.000000</td>\n",
       "      <td>-5.285000</td>\n",
       "      <td>1.000000</td>\n",
       "      <td>0.059850</td>\n",
       "      <td>0.055700</td>\n",
       "      <td>0.000000</td>\n",
       "      <td>0.124000</td>\n",
       "      <td>0.557500</td>\n",
       "      <td>120.021500</td>\n",
       "    </tr>\n",
       "    <tr>\n",
       "      <th>75%</th>\n",
       "      <td>248133.000000</td>\n",
       "      <td>2015.00000</td>\n",
       "      <td>73.000000</td>\n",
       "      <td>0.764000</td>\n",
       "      <td>0.839000</td>\n",
       "      <td>8.000000</td>\n",
       "      <td>-4.167750</td>\n",
       "      <td>1.000000</td>\n",
       "      <td>0.129000</td>\n",
       "      <td>0.176250</td>\n",
       "      <td>0.000068</td>\n",
       "      <td>0.241000</td>\n",
       "      <td>0.730000</td>\n",
       "      <td>134.265500</td>\n",
       "    </tr>\n",
       "    <tr>\n",
       "      <th>max</th>\n",
       "      <td>484146.000000</td>\n",
       "      <td>2020.00000</td>\n",
       "      <td>89.000000</td>\n",
       "      <td>0.975000</td>\n",
       "      <td>0.999000</td>\n",
       "      <td>11.000000</td>\n",
       "      <td>-0.276000</td>\n",
       "      <td>1.000000</td>\n",
       "      <td>0.576000</td>\n",
       "      <td>0.976000</td>\n",
       "      <td>0.985000</td>\n",
       "      <td>0.853000</td>\n",
       "      <td>0.973000</td>\n",
       "      <td>210.851000</td>\n",
       "    </tr>\n",
       "  </tbody>\n",
       "</table>\n",
       "</div>"
      ],
      "text/plain": [
       "         duration_ms        year   popularity  danceability       energy  \\\n",
       "count    2000.000000  2000.00000  2000.000000   2000.000000  2000.000000   \n",
       "mean   228748.124500  2009.49400    59.872500      0.667438     0.720366   \n",
       "std     39136.569008     5.85996    21.335577      0.140416     0.152745   \n",
       "min    113000.000000  1998.00000     0.000000      0.129000     0.054900   \n",
       "25%    203580.000000  2004.00000    56.000000      0.581000     0.622000   \n",
       "50%    223279.500000  2010.00000    65.500000      0.676000     0.736000   \n",
       "75%    248133.000000  2015.00000    73.000000      0.764000     0.839000   \n",
       "max    484146.000000  2020.00000    89.000000      0.975000     0.999000   \n",
       "\n",
       "               key     loudness         mode  speechiness  acousticness  \\\n",
       "count  2000.000000  2000.000000  2000.000000  2000.000000   2000.000000   \n",
       "mean      5.378000    -5.512434     0.553500     0.103568      0.128955   \n",
       "std       3.615059     1.933482     0.497254     0.096159      0.173346   \n",
       "min       0.000000   -20.514000     0.000000     0.023200      0.000019   \n",
       "25%       2.000000    -6.490250     0.000000     0.039600      0.014000   \n",
       "50%       6.000000    -5.285000     1.000000     0.059850      0.055700   \n",
       "75%       8.000000    -4.167750     1.000000     0.129000      0.176250   \n",
       "max      11.000000    -0.276000     1.000000     0.576000      0.976000   \n",
       "\n",
       "       instrumentalness     liveness      valence        tempo  \n",
       "count       2000.000000  2000.000000  2000.000000  2000.000000  \n",
       "mean           0.015226     0.181216     0.551690   120.122558  \n",
       "std            0.087771     0.140669     0.220864    26.967112  \n",
       "min            0.000000     0.021500     0.038100    60.019000  \n",
       "25%            0.000000     0.088100     0.386750    98.985750  \n",
       "50%            0.000000     0.124000     0.557500   120.021500  \n",
       "75%            0.000068     0.241000     0.730000   134.265500  \n",
       "max            0.985000     0.853000     0.973000   210.851000  "
      ]
     },
     "execution_count": 22,
     "metadata": {},
     "output_type": "execute_result"
    }
   ],
   "source": [
    "#describe() - provided statistical summarize of numercical columns\n",
    "\n",
    "df.describe()"
   ]
  },
  {
   "cell_type": "code",
   "execution_count": null,
   "id": "4abbd829-b013-46b2-b756-0abad681a6f2",
   "metadata": {},
   "outputs": [],
   "source": [
    "#Loc[] -> local based indexing\n",
    "\n",
    "#uses rows and column label\n",
    "#syntax - df.loc[row_label,column_label]\n",
    "#can be used with boolean conditions"
   ]
  },
  {
   "cell_type": "code",
   "execution_count": 32,
   "id": "527de475-7fa6-45d0-9b7e-25d80026ccd0",
   "metadata": {},
   "outputs": [
    {
     "name": "stdout",
     "output_type": "stream",
     "text": [
      "       Name  Age\n",
      "101   Alice   72\n",
      "102     Bob   45\n",
      "103  Victor   65\n"
     ]
    }
   ],
   "source": [
    "import pandas as pd\n",
    "data={'Name':['Alice','Bob','Victor'],'Age':[72,45,65]}\n",
    "df = pd.DataFrame(data,index=[101,102,103])\n",
    "print(df)"
   ]
  },
  {
   "cell_type": "code",
   "execution_count": 9,
   "id": "c38ef06b-2894-4cb2-940c-d2562b42ad9e",
   "metadata": {},
   "outputs": [
    {
     "name": "stdout",
     "output_type": "stream",
     "text": [
      "Bob\n",
      "       Name\n",
      "101   Alice\n",
      "102     Bob\n",
      "103  Victor\n",
      "101    False\n",
      "102     True\n",
      "103     True\n",
      "Name: Age, dtype: bool\n"
     ]
    }
   ],
   "source": [
    "print(df.loc[102,'Name']) # get the value of loc condotion\n",
    "print(df.loc[101:103,['Name']])\n",
    "print(df['Age']>30)"
   ]
  },
  {
   "cell_type": "code",
   "execution_count": 11,
   "id": "2e1b998e-34d7-4d05-b139-365efdc5948b",
   "metadata": {},
   "outputs": [
    {
     "name": "stdout",
     "output_type": "stream",
     "text": [
      "Victor\n",
      "      Name  Age\n",
      "101  Alice   24\n"
     ]
    }
   ],
   "source": [
    "#iLoc[] - Index position \n",
    "#using row and column position (index)\n",
    "#syntax - df.iloc[row_index,column_idex]\n",
    "\n",
    "print(df.iloc[2,0])\n",
    "print(df.iloc[0:1,0:2])"
   ]
  },
  {
   "cell_type": "code",
   "execution_count": 18,
   "id": "50b8a683-6fe5-4194-b2d7-f838668f8ed2",
   "metadata": {},
   "outputs": [
    {
     "name": "stdout",
     "output_type": "stream",
     "text": [
      "       Name  Age\n",
      "102     Bob   45\n",
      "103  Victor   65\n",
      "101   Alice   72\n",
      "       Name  Age\n",
      "101   Alice   72\n",
      "102     Bob   45\n",
      "103  Victor   65\n"
     ]
    }
   ],
   "source": [
    "#sort_values() - sort rows and column values\n",
    "#df,sort_values= 'Column_name'ascending=True/False,inplace=False/True)\n",
    "sorted_df = df.sort_values(by='Age')\n",
    "print(sorted_df)\n",
    "print(df)"
   ]
  },
  {
   "cell_type": "code",
   "execution_count": 20,
   "id": "d3c0b1d7-2221-421c-9847-0153956348ed",
   "metadata": {},
   "outputs": [
    {
     "name": "stdout",
     "output_type": "stream",
     "text": [
      "City\n",
      "NYC       0.666667\n",
      "London    0.333333\n",
      "Name: proportion, dtype: float64\n"
     ]
    }
   ],
   "source": [
    "#value_counts(normalize=True) - count unique values with persentage\n",
    "\n",
    "df2=pd.DataFrame({'City':['NYC','NYC','London']})\n",
    "\n",
    "counts = df2['City'].value_counts(normalize=True) #normalize true means: returns percent /francation\n",
    "print(counts)"
   ]
  },
  {
   "cell_type": "code",
   "execution_count": 23,
   "id": "5492fac7-d6f6-42dd-91ae-50079fda8078",
   "metadata": {},
   "outputs": [
    {
     "name": "stdout",
     "output_type": "stream",
     "text": [
      "          City\n",
      "0          NYC\n",
      "1          NYC\n",
      "2       London\n",
      "3  not defined\n",
      "4  not defined\n"
     ]
    }
   ],
   "source": [
    "#Fillna - fill missing values(NaN) values\n",
    "#df.fillna(value,inplace=False)\n",
    "df2=pd.DataFrame({'City':['NYC','NYC','London',None,None]})\n",
    "df.filled=df2.fillna('not defined',inplace=True)\n",
    "print(df2)"
   ]
  },
  {
   "cell_type": "code",
   "execution_count": 27,
   "id": "336dfd9c-c213-4b6f-bd47-811abcd0e88a",
   "metadata": {},
   "outputs": [
    {
     "name": "stdout",
     "output_type": "stream",
     "text": [
      "     City\n",
      "0     NYC\n",
      "1     NYC\n",
      "2  London\n",
      "3    None\n",
      "4    None\n",
      "          City\n",
      "0          NYC\n",
      "1          NYC\n",
      "2       London\n",
      "3  not defined\n",
      "4  not defined\n"
     ]
    }
   ],
   "source": [
    "df3=pd.DataFrame({'City':['NYC','NYC','London',None,None]})\n",
    "df_filled=df2.fillna('not defined')\n",
    "print(df3)\n",
    "print(df_filled)"
   ]
  },
  {
   "cell_type": "code",
   "execution_count": 28,
   "id": "13a052a2-364a-468f-ba79-d3b079f7ff13",
   "metadata": {},
   "outputs": [],
   "source": [
    "#inplace= True - apply changes in the original df\n"
   ]
  },
  {
   "cell_type": "code",
   "execution_count": 30,
   "id": "f18b454a-1bf1-4435-bfeb-9dcb189e8840",
   "metadata": {},
   "outputs": [
    {
     "name": "stdout",
     "output_type": "stream",
     "text": [
      "  First_name Last_name   Full_name\n",
      "0      Alice      John   AliceJohn\n",
      "1     Victor      Krum  VictorKrum\n"
     ]
    }
   ],
   "source": [
    "#combine columns - merge/concat column values\n",
    "#df[new_colum] = df['column_1] + df['column_2]\n",
    "\n",
    "df= pd.DataFrame({'First_name':['Alice','Victor'],'Last_name':['John','Krum']})\n",
    "df['Full_name'] = df['First_name'] + df['Last_name']\n",
    "print(df)"
   ]
  },
  {
   "cell_type": "code",
   "execution_count": 31,
   "id": "2ea4f0bb-7ab7-459d-87fb-12cd8d2f9007",
   "metadata": {},
   "outputs": [
    {
     "name": "stdout",
     "output_type": "stream",
     "text": [
      "  First_name Last_name   Full_name\n",
      "0      Alice      John   AliceJohn\n",
      "1     Victor      Krum  VictorKrum\n",
      "    Fname Lname   Full_name\n",
      "0   Alice  John   AliceJohn\n",
      "1  Victor  Krum  VictorKrum\n"
     ]
    }
   ],
   "source": [
    "## rename - rename column or index \n",
    "\n",
    "df_rename = df.rename(columns = {'First_name':'Fname','Last_name':'Lname'})\n",
    "print(df)\n",
    "print(df_rename)"
   ]
  },
  {
   "cell_type": "code",
   "execution_count": 33,
   "id": "c576b8b3-44eb-497e-bf21-9fb730b6be72",
   "metadata": {},
   "outputs": [
    {
     "name": "stdout",
     "output_type": "stream",
     "text": [
      "       Name  Age  Square\n",
      "101   Alice   72      73\n",
      "102     Bob   45      46\n",
      "103  Victor   65      66\n"
     ]
    }
   ],
   "source": [
    "## apple  - used to apply a function along an axis of the df or series\n",
    "\n",
    "df['Square'] = df['Age'].apply(lambda x:x+1)\n",
    "print(df)"
   ]
  },
  {
   "cell_type": "code",
   "execution_count": null,
   "id": "ff7a7fcf-5f55-4bc7-aaf2-99df865665df",
   "metadata": {},
   "outputs": [],
   "source": [
    "#Str\n",
    "import pandas as pd\n",
    "\n",
    "# Sample DataFrame\n",
    "df = pd.DataFrame({\n",
    "    'Name': [' Alice ', 'BOB', 'Charlie'],\n",
    "    'Email': ['alice@gmail.com', 'bob@yahoo.com', 'charlie@gmail.com'],\n",
    "    'Text': [' hello world ', 'PYTHON', 'data Science'],\n",
    "    'Phone': ['123-456', '789-012', '345-678'],\n",
    "    'Amount': ['100', '200', '300']\n",
    "})\n",
    "\n",
    "# String Manipulation\n",
    "print(df['Name'].str.lower())         # Lowercase\n",
    "print(df['Name'].str.upper())         # Uppercase\n",
    "print(df['Name'].str.title())         # Title Case\n",
    "print(df['Name'].str.capitalize())    # Capitalize first letter\n",
    "print(df['Name'].str.swapcase())      # Swap case\n",
    "print(df['Name'].str.strip())         # Strip whitespace\n",
    "print(df['Name'].str.lstrip())        # Left strip\n",
    "print(df['Name'].str.rstrip())        # Right strip\n",
    "print(df['Name'].str.replace(' ', '-'))  # Replace space with dash\n",
    "print(df['Name'].str.repeat(2))       # Repeat strings\n",
    "print(df['Name'].str.pad(10, fillchar='*'))  # Pad\n",
    "print(df['Name'].str.center(10, '*'))       # Center\n",
    "print(df['Name'].str.ljust(10, '*'))        # Left justify\n",
    "print(df['Name'].str.rjust(10, '*'))        # Right justify\n",
    "print(df['Amount'].str.zfill(5))     # Pad with zeros\n",
    "\n",
    "# Substring and Splitting\n",
    "print(df['Email'].str.split('@'))                      # Split email\n",
    "print(df['Email'].str.rsplit('@'))                     # RSplit\n",
    "print(df['Email'].str.partition('@'))                  # Partition\n",
    "print(df['Email'].str.rpartition('@'))                 # RPartition\n",
    "print(df['Email'].str.get(0))                          # Get first char\n",
    "print(df['Email'].str.slice(0, 5))                     # Slice\n",
    "print(df['Email'].str.slice_replace(0, 5, 'user'))     # Slice replace\n",
    "\n",
    "# Searching and Matching\n",
    "print(df['Email'].str.contains('gmail'))               # Contains\n",
    "print(df['Email'].str.startswith('alice'))             # Startswith\n",
    "print(df['Email'].str.endswith('.com'))                # Endswith\n",
    "print(df['Email'].str.match(r'^[a-z]+'))               # Match regex\n",
    "print(df['Email'].str.fullmatch(r'.+@.+\\.com'))       # Fullmatch\n",
    "print(df['Email'].str.find('gmail'))                   # Find index\n",
    "print(df['Email'].str.rfind('o'))                      # Rfind\n",
    "print(df['Email'].str.index('gmail'))                  # Index (error if not found)\n",
    "print(df['Email'].str.rindex('o'))                     # Rindex\n",
    "print(df['Email'].str.count('a'))                      # Count occurrences\n",
    "\n",
    "# Other Functions\n",
    "print(df['Text'].str.len())                            # Length\n",
    "print(df['Amount'].str.isnumeric())                    # Is numeric\n",
    "print(df['Amount'].str.isdigit())                      # Is digit\n",
    "print(df['Name'].str.isalpha())                        # Is alpha\n",
    "print(df['Name'].str.isalnum())                        # Is alnum\n",
    "print(df['Amount'].str.isdecimal())                    # Is decimal\n",
    "print(df['Name'].str.isspace())                        # Is space\n",
    "print(df['Name'].str.islower())                        # Is lower\n",
    "print(df['Name'].str.isupper())                        # Is upper\n",
    "print(df['Name'].str.istitle())                        # Is title\n",
    "print(df['Name'].str.cat(sep=' | '))                   # Concatenate\n",
    "print(df['Name'].str.encode('utf-8'))                  # Encode\n",
    "print(df['Email'].str.extract(r'(.+)@(.+)'))           # Extract groups\n",
    "print(df['Email'].str.extractall(r'(.)(.)'))           # Extract all\n",
    "print(df['Name'].str.normalize('NFKD'))                # Normalize unicode\n",
    "print(df['Phone'].str.translate(str.maketrans({'-': ' '})))  # Translate"
   ]
  },
  {
   "cell_type": "code",
   "execution_count": 34,
   "id": "e1dd196a-7857-4e8c-ade5-978e2fde468f",
   "metadata": {},
   "outputs": [
    {
     "name": "stdout",
     "output_type": "stream",
     "text": [
      "   ID   Name  Score\n",
      "0   1  Alice     45\n",
      "1   2    Bob     76\n"
     ]
    }
   ],
   "source": [
    "#merge - combine two dfs based onkey columns #type-inner,outer,right,left\n",
    "\n",
    "df1 = pd.DataFrame({'ID':[1,2],'Name':['Alice','Bob']})\n",
    "df2 = pd.DataFrame({'ID':[1,2],'Score':[45,76]})\n",
    "\n",
    "merged = pd.merge(df1,df2,on='ID',how='inner')\n",
    "print(merged)"
   ]
  },
  {
   "cell_type": "code",
   "execution_count": 36,
   "id": "039d8779-b44c-48c8-bfe4-7f86a21ee94d",
   "metadata": {},
   "outputs": [
    {
     "name": "stdout",
     "output_type": "stream",
     "text": [
      "   ID_1   Name  ID_2  Score\n",
      "1     1  Alice     1     45\n",
      "2     2    Bob     2     76\n"
     ]
    }
   ],
   "source": [
    "#join() - joinning dfs using index or specified key\n",
    "df1 = pd.DataFrame({'ID_1':[1,2],'Name':['Alice','Bob']},index=[1,2])\n",
    "df2 = pd.DataFrame({'ID_2':[1,2],'Score':[45,76]},index=[1,2])\n",
    "\n",
    "joined = df1.join(df2)\n",
    "print(joined)"
   ]
  },
  {
   "cell_type": "code",
   "execution_count": 37,
   "id": "3f0f644f-248b-4904-8bb1-4b542d878050",
   "metadata": {},
   "outputs": [
    {
     "name": "stdout",
     "output_type": "stream",
     "text": [
      "   score  double\n",
      "0      1       2\n",
      "1      2       4\n",
      "2      3       6\n"
     ]
    }
   ],
   "source": [
    "#map() - transform values in a series\n",
    "\n",
    "df = pd.DataFrame({'score':[1,2,3]})\n",
    "\n",
    "df['double'] = df['score'].map(lambda x:x*2)\n",
    "print(df)"
   ]
  },
  {
   "cell_type": "code",
   "execution_count": 3,
   "id": "f474da5c-746b-4db5-b069-a5796847ce4e",
   "metadata": {},
   "outputs": [
    {
     "name": "stdout",
     "output_type": "stream",
     "text": [
      "Department\n",
      "Finance    5000\n",
      "Hr         3000\n",
      "IT         7000\n",
      "Name: salary, dtype: int64\n"
     ]
    }
   ],
   "source": [
    "#group by \n",
    "import pandas as pd\n",
    "\n",
    "df = pd.DataFrame({'Department':['Hr','Hr','IT','IT','Finance'],'salary':[1000,2000,3000,4000,5000]})\n",
    "\n",
    "grouped = df.groupby('Department')['salary'].sum()\n",
    "\n",
    "print(grouped)"
   ]
  },
  {
   "cell_type": "code",
   "execution_count": 4,
   "id": "72690824-01c2-4629-a50a-e987e2a9e37a",
   "metadata": {},
   "outputs": [
    {
     "name": "stdout",
     "output_type": "stream",
     "text": [
      "  Department  salary  hike\n",
      "0         Hr    1000  2000\n",
      "1         Hr    2000  3000\n",
      "2         IT    3000  4000\n",
      "3         IT    4000  5000\n",
      "4    Finance    5000  6000\n"
     ]
    }
   ],
   "source": [
    "#assign - add new columns or modify exisyting columns using calaculated values\n",
    "\n",
    "df = df.assign(hike = df['salary'] +1000)\n",
    "print(df)"
   ]
  },
  {
   "cell_type": "code",
   "execution_count": 6,
   "id": "3649e29f-2096-488f-90ae-7465cdd36584",
   "metadata": {},
   "outputs": [
    {
     "name": "stdout",
     "output_type": "stream",
     "text": [
      "Month          Feb     Jan\n",
      "Department                \n",
      "Finance     5000.0     NaN\n",
      "Hr             NaN  3000.0\n",
      "IT          3000.0  4000.0\n"
     ]
    }
   ],
   "source": [
    "#pivot_table() - create a summary table similar to excel table using aggregation \n",
    "df = pd.DataFrame({'Department':['Hr','Hr','IT','IT','Finance'],'salary':[1000,2000,3000,4000,5000],'Month':['Jan','Jan','Feb','Jan','Feb']})\n",
    "\n",
    "pivot = pd.pivot_table(df,values = \"salary\",index='Department',columns='Month',aggfunc='sum')\n",
    "print(pivot)"
   ]
  },
  {
   "cell_type": "code",
   "execution_count": null,
   "id": "8ab36acd-3e8f-43c6-99c6-65f1d37c11b1",
   "metadata": {},
   "outputs": [],
   "source": [
    "#Matplotlib - used for data visualization in python "
   ]
  },
  {
   "cell_type": "code",
   "execution_count": 8,
   "id": "e4a61cfd-4903-4e83-b127-38e26d8d5e8e",
   "metadata": {},
   "outputs": [],
   "source": [
    "import matplotlib.pyplot as plt"
   ]
  },
  {
   "cell_type": "code",
   "execution_count": 13,
   "id": "de8a2cb3-cd9d-4c81-a53f-1314ef057678",
   "metadata": {},
   "outputs": [
    {
     "data": {
      "image/png": "[encoded data removed]",
      "text/plain": [
       "<Figure size 640x480 with 1 Axes>"
      ]
     },
     "metadata": {},
     "output_type": "display_data"
    }
   ],
   "source": [
    "#plot(x,y,fstring) - line graph\n",
    "\n",
    "x=[1,2,3,4,5]\n",
    "y=[10,20,30,40,50]\n",
    "\n",
    "plt.plot(x,y,'r*:')# r- read, -- f=dashed lines\n",
    "plt.show()"
   ]
  },
  {
   "cell_type": "code",
   "execution_count": null,
   "id": "f4ef9d2a-e5e0-431e-9453-ceaf5a1a2fbd",
   "metadata": {},
   "outputs": [],
   "source": [
    "fstring (format string):\n",
    "\n",
    "color code:\n",
    "===========\n",
    "r-red,g-green,b-blue,k-black,y-yellow\n",
    "\n",
    "line styles\n",
    "============\n",
    "'-' = solid line,\n",
    "'--'= dashed line\n",
    "':' = dotted line\n",
    "'-.' = dash -dot line\n",
    "\n",
    "markers\n",
    "=========\n",
    "'o'-circle,\n",
    "'s' - square\n",
    "'^'= triangle up\n",
    "'* '- star"
   ]
  },
  {
   "cell_type": "code",
   "execution_count": 14,
   "id": "ccbb70d2-0b06-4b18-94fa-8ed9a9100c26",
   "metadata": {},
   "outputs": [
    {
     "data": {
      "image/png": "[encoded data removed]",
      "text/plain": [
       "<Figure size 640x480 with 1 Axes>"
      ]
     },
     "metadata": {},
     "output_type": "display_data"
    }
   ],
   "source": [
    "#xlabel,ylabel,title\n",
    "\n",
    "x=[1,2,3,4,5]\n",
    "y=[10,20,30,40,50]\n",
    "\n",
    "plt.plot(x,y,'r*:')# r- read, -- f=dashed lines\n",
    "plt.xlabel('x-axis')\n",
    "plt.ylabel('y-axis')\n",
    "plt.title(\"My plot\")\n",
    "plt.show()"
   ]
  },
  {
   "cell_type": "code",
   "execution_count": 15,
   "id": "0552b215-b863-4b8f-a066-954838eabb58",
   "metadata": {},
   "outputs": [
    {
     "data": {
      "image/png": "[encoded data removed]",
      "text/plain": [
       "<Figure size 640x480 with 1 Axes>"
      ]
     },
     "metadata": {},
     "output_type": "display_data"
    }
   ],
   "source": [
    "#legend(loc=)\n",
    "\n",
    "x=[1,2,3,4,5]\n",
    "y1=[10,20,30,40,50]\n",
    "y2 =[50,65,73,88,96]\n",
    "\n",
    "plt.plot(x,y1,label = 'data A')# r- read, -- f=dashed lines\n",
    "plt.plot(x,y2,label='data b')\n",
    "plt.title(\"My plot\")\n",
    "plt.legend(loc='upper right') #best,upper right,upper left ,lower right ,lower left ,0 -10\n",
    "plt.show()"
   ]
  },
  {
   "cell_type": "code",
   "execution_count": 18,
   "id": "847795d9-dd56-425c-8acc-f8ba027771fe",
   "metadata": {},
   "outputs": [
    {
     "data": {
      "image/png": "[encoded data removed]",
      "text/plain": [
       "<Figure size 640x440 with 1 Axes>"
      ]
     },
     "metadata": {},
     "output_type": "display_data"
    }
   ],
   "source": [
    "#style - change the over all look of the plot \n",
    "\n",
    "x=[1,2,3,4,5]\n",
    "y1=[10,20,30,40,50]\n",
    "y2 =[50,65,73,88,96]\n",
    "plt.style.use('dark_background')\n",
    "plt.plot(x,y1,label = 'data A')# r- read, -- f=dashed lines\n",
    "plt.plot(x,y2,label='data b')\n",
    "plt.title(\"My plot\")\n",
    "plt.legend(loc='upper right') #best,upper right,upper left ,lower right ,lower left ,0 -10\n",
    "plt.show()"
   ]
  },
  {
   "cell_type": "code",
   "execution_count": 17,
   "id": "446b4473-c722-4272-83fb-d8cc06f30451",
   "metadata": {},
   "outputs": [
    {
     "name": "stdout",
     "output_type": "stream",
     "text": [
      "['Solarize_Light2', '_classic_test_patch', '_mpl-gallery', '_mpl-gallery-nogrid', 'bmh', 'classic', 'dark_background', 'fast', 'fivethirtyeight', 'ggplot', 'grayscale', 'seaborn-v0_8', 'seaborn-v0_8-bright', 'seaborn-v0_8-colorblind', 'seaborn-v0_8-dark', 'seaborn-v0_8-dark-palette', 'seaborn-v0_8-darkgrid', 'seaborn-v0_8-deep', 'seaborn-v0_8-muted', 'seaborn-v0_8-notebook', 'seaborn-v0_8-paper', 'seaborn-v0_8-pastel', 'seaborn-v0_8-poster', 'seaborn-v0_8-talk', 'seaborn-v0_8-ticks', 'seaborn-v0_8-white', 'seaborn-v0_8-whitegrid', 'tableau-colorblind10']\n"
     ]
    }
   ],
   "source": [
    "print(plt.style.available)"
   ]
  },
  {
   "cell_type": "code",
   "execution_count": 22,
   "id": "a7385d8f-7128-493d-b3a8-f685a82f2775",
   "metadata": {},
   "outputs": [
    {
     "data": {
      "image/png": "[encoded data removed]",
      "text/plain": [
       "<Figure size 640x440 with 1 Axes>"
      ]
     },
     "metadata": {},
     "output_type": "display_data"
    }
   ],
   "source": [
    "#xticks - is used to customise the tick marks on the axis\n",
    "\n",
    "x=[1,2,3,4,5]\n",
    "y1=[10,20,30,40,50]\n",
    "y2 =[50,65,73,88,96]\n",
    "plt.style.use('dark_background')\n",
    "plt.xticks([1,2,3,4,5],['jan','feb','Mar','april','may'],rotation=90)\n",
    "plt.plot(x,y1,label = 'data A')# r- read, -- f=dashed lines\n",
    "plt.plot(x,y2,label='data b')\n",
    "plt.title(\"My plot\")\n",
    "plt.legend(loc='upper right') #best,upper right,upper left ,lower right ,lower left ,0 -10\n",
    "plt.show()"
   ]
  },
  {
   "cell_type": "code",
   "execution_count": 23,
   "id": "44ba48df-d885-4d47-ad54-952c3ceb3f5c",
   "metadata": {},
   "outputs": [
    {
     "data": {
      "image/png": "[encoded data removed]",
      "text/plain": [
       "<Figure size 640x440 with 1 Axes>"
      ]
     },
     "metadata": {},
     "output_type": "display_data"
    }
   ],
   "source": [
    "x=[1,2,3,4,5]\n",
    "y1=[10,20,30,40,50]\n",
    "y2 =[50,65,73,88,96]\n",
    "plt.style.use('dark_background')\n",
    "plt.xticks([1,2,3,4,5])\n",
    "plt.plot(x,y1,label = 'data A')# r- read, -- f=dashed lines\n",
    "plt.plot(x,y2,label='data b')\n",
    "plt.title(\"My plot\")\n",
    "plt.legend(loc='upper right') #best,upper right,upper left ,lower right ,lower left ,0 -10\n",
    "plt.show()"
   ]
  },
  {
   "cell_type": "code",
   "execution_count": 24,
   "id": "35fb6d47-9142-404d-badf-fdc6915a0f37",
   "metadata": {},
   "outputs": [
    {
     "data": {
      "image/png": "[encoded data removed]",
      "text/plain": [
       "<Figure size 640x440 with 1 Axes>"
      ]
     },
     "metadata": {},
     "output_type": "display_data"
    }
   ],
   "source": [
    "#savefig \n",
    "\n",
    "x=[1,2,3,4,5]\n",
    "y1=[10,20,30,40,50]\n",
    "y2 =[50,65,73,88,96]\n",
    "plt.style.use('dark_background')\n",
    "plt.xticks([1,2,3,4,5])\n",
    "plt.plot(x,y1,label = 'data A')# r- read, -- f=dashed lines\n",
    "plt.plot(x,y2,label='data b')\n",
    "plt.title(\"My plot\")\n",
    "plt.legend(loc='upper right') #best,upper right,upper left ,lower right ,lower left ,0 -10\n",
    "plt.savefig('line chart.png')\n",
    "plt.show()"
   ]
  },
  {
   "cell_type": "code",
   "execution_count": null,
   "id": "3f102a79-32dc-4291-8bdb-cb5f7c41e470",
   "metadata": {},
   "outputs": [],
   "source": [
    "#assignments\n",
    "\n",
    "    *\n",
    "   * *\n",
    "  * * * \n",
    " * * * *\n",
    "* * * * *\n",
    "\n",
    "* * * * *\n",
    " * * * *\n",
    "  * * * \n",
    "   * *\n",
    "    *"
   ]
  },
  {
   "cell_type": "code",
   "execution_count": 2,
   "id": "bf903c2d-fb51-4443-9e46-dbff74ba88ff",
   "metadata": {},
   "outputs": [
    {
     "data": {
      "image/png": "[encoded data removed]",
      "text/plain": [
       "<Figure size 640x480 with 1 Axes>"
      ]
     },
     "metadata": {},
     "output_type": "display_data"
    }
   ],
   "source": [
    "#bar chart \n",
    "import matplotlib.pyplot as plt\n",
    "x = ['a','b','c']\n",
    "y = [1,2,3]\n",
    "plt.bar(x,y,color = 'blue')\n",
    "plt.show()"
   ]
  },
  {
   "cell_type": "code",
   "execution_count": 7,
   "id": "540be9a1-8965-4a53-8e66-f84a4ab1fe30",
   "metadata": {},
   "outputs": [
    {
     "data": {
      "image/png": "[encoded data removed]",
      "text/plain": [
       "<Figure size 640x480 with 1 Axes>"
      ]
     },
     "metadata": {},
     "output_type": "display_data"
    }
   ],
   "source": [
    "#oie chart with explode ,autopct,\n",
    "labels = [\"apple\",\"mango\",\"cherry\"]\n",
    "sizes = [30,50,80]\n",
    "explode = [0,0.1,0]\n",
    "\n",
    "plt.pie(sizes,labels = labels,explode = explode,autopct = '%1.1f%%')\n",
    "plt.show()"
   ]
  },
  {
   "cell_type": "code",
   "execution_count": 8,
   "id": "31c9a33c-0223-4727-b15b-545fbea95345",
   "metadata": {},
   "outputs": [
    {
     "data": {
      "image/png": "[encoded data removed]",
      "text/plain": [
       "<Figure size 640x480 with 1 Axes>"
      ]
     },
     "metadata": {},
     "output_type": "display_data"
    }
   ],
   "source": [
    "#stackplot()\n",
    "\n",
    "import numpy as np\n",
    "x = np.arange(1,6)\n",
    "y1 =[1,2,3,4,5]\n",
    "y2 = [2,2,3,3,4]\n",
    "y3 = [3,4,5,6,7]\n",
    "\n",
    "plt.stackplot(x,y1,y2,y3,labels=['A','B','C'],colors=['r','g','b'])\n",
    "plt.legend()\n",
    "plt.show()"
   ]
  },
  {
   "cell_type": "code",
   "execution_count": 10,
   "id": "9a21663b-d5e9-453c-8a60-213e6fe2c798",
   "metadata": {},
   "outputs": [
    {
     "data": {
      "image/png": "[encoded data removed]",
      "text/plain": [
       "<Figure size 640x480 with 1 Axes>"
      ]
     },
     "metadata": {},
     "output_type": "display_data"
    }
   ],
   "source": [
    "#hist() - histogram \n",
    "\n",
    "data = np.random.randn(1000)\n",
    "plt.hist(data,bins=30,color = 'blue',edgecolor ='white',alpha=0.7)\n",
    "plt.show()\n",
    "\n",
    "#bins- divides the range of data into intravels\n",
    "#edgecolor - draws edges around each bar for more visibilty\n",
    "#alpha - transparency(0=full transparent,1= fully opaque)"
   ]
  },
  {
   "cell_type": "code",
   "execution_count": 12,
   "id": "65bcd367-dc18-4624-b433-be9b15c43779",
   "metadata": {},
   "outputs": [
    {
     "data": {
      "image/png": "[encoded data removed]",
      "text/plain": [
       "<Figure size 640x480 with 1 Axes>"
      ]
     },
     "metadata": {},
     "output_type": "display_data"
    }
   ],
   "source": [
    "#axvline\n",
    "x = np.linspace(0,10,100) \n",
    "y = np.sin(x)\n",
    "\n",
    "plt.plot(x,y)\n",
    "plt.axvline(x=5,color='r',linestyle='--',linewidth=2)\n",
    "plt.show()"
   ]
  },
  {
   "cell_type": "code",
   "execution_count": 14,
   "id": "fc538136-7bab-439a-9535-cbd83df5015f",
   "metadata": {},
   "outputs": [
    {
     "data": {
      "image/png": "[encoded data removed]",
      "text/plain": [
       "<Figure size 640x480 with 1 Axes>"
      ]
     },
     "metadata": {},
     "output_type": "display_data"
    }
   ],
   "source": [
    "#scatter chart\n",
    "\n",
    "x = np.random.rand(50)\n",
    "y=np.random.rand(50)\n",
    "plt.scatter(x,y,c='g',marker='*')\n",
    "plt.show()"
   ]
  },
  {
   "cell_type": "code",
   "execution_count": 16,
   "id": "ac8ab374-10ad-4576-af35-344059949543",
   "metadata": {},
   "outputs": [
    {
     "data": {
      "image/png": "[encoded data removed]",
      "text/plain": [
       "<Figure size 640x480 with 2 Axes>"
      ]
     },
     "metadata": {},
     "output_type": "display_data"
    }
   ],
   "source": [
    "#colorbar \n",
    "\n",
    "x = np.random.rand(50)\n",
    "y=np.random.rand(50)\n",
    "colors = np.random.rand(50)\n",
    "scatter = plt.scatter(x,y,c=colors,cmap='coolwarm')\n",
    "plt.colorbar(scatter)\n",
    "plt.show()"
   ]
  },
  {
   "cell_type": "code",
   "execution_count": 15,
   "id": "48e021c7-7243-4479-97ad-54bb7c4347b1",
   "metadata": {},
   "outputs": [
    {
     "name": "stdout",
     "output_type": "stream",
     "text": [
      "['magma', 'inferno', 'plasma', 'viridis', 'cividis', 'twilight', 'twilight_shifted', 'turbo', 'Blues', 'BrBG', 'BuGn', 'BuPu', 'CMRmap', 'GnBu', 'Greens', 'Greys', 'OrRd', 'Oranges', 'PRGn', 'PiYG', 'PuBu', 'PuBuGn', 'PuOr', 'PuRd', 'Purples', 'RdBu', 'RdGy', 'RdPu', 'RdYlBu', 'RdYlGn', 'Reds', 'Spectral', 'Wistia', 'YlGn', 'YlGnBu', 'YlOrBr', 'YlOrRd', 'afmhot', 'autumn', 'binary', 'bone', 'brg', 'bwr', 'cool', 'coolwarm', 'copper', 'cubehelix', 'flag', 'gist_earth', 'gist_gray', 'gist_heat', 'gist_ncar', 'gist_rainbow', 'gist_stern', 'gist_yarg', 'gnuplot', 'gnuplot2', 'gray', 'hot', 'hsv', 'jet', 'nipy_spectral', 'ocean', 'pink', 'prism', 'rainbow', 'seismic', 'spring', 'summer', 'terrain', 'winter', 'Accent', 'Dark2', 'Paired', 'Pastel1', 'Pastel2', 'Set1', 'Set2', 'Set3', 'tab10', 'tab20', 'tab20b', 'tab20c', 'grey', 'gist_grey', 'gist_yerg', 'Grays', 'magma_r', 'inferno_r', 'plasma_r', 'viridis_r', 'cividis_r', 'twilight_r', 'twilight_shifted_r', 'turbo_r', 'Blues_r', 'BrBG_r', 'BuGn_r', 'BuPu_r', 'CMRmap_r', 'GnBu_r', 'Greens_r', 'Greys_r', 'OrRd_r', 'Oranges_r', 'PRGn_r', 'PiYG_r', 'PuBu_r', 'PuBuGn_r', 'PuOr_r', 'PuRd_r', 'Purples_r', 'RdBu_r', 'RdGy_r', 'RdPu_r', 'RdYlBu_r', 'RdYlGn_r', 'Reds_r', 'Spectral_r', 'Wistia_r', 'YlGn_r', 'YlGnBu_r', 'YlOrBr_r', 'YlOrRd_r', 'afmhot_r', 'autumn_r', 'binary_r', 'bone_r', 'brg_r', 'bwr_r', 'cool_r', 'coolwarm_r', 'copper_r', 'cubehelix_r', 'flag_r', 'gist_earth_r', 'gist_gray_r', 'gist_heat_r', 'gist_ncar_r', 'gist_rainbow_r', 'gist_stern_r', 'gist_yarg_r', 'gnuplot_r', 'gnuplot2_r', 'gray_r', 'hot_r', 'hsv_r', 'jet_r', 'nipy_spectral_r', 'ocean_r', 'pink_r', 'prism_r', 'rainbow_r', 'seismic_r', 'spring_r', 'summer_r', 'terrain_r', 'winter_r', 'Accent_r', 'Dark2_r', 'Paired_r', 'Pastel1_r', 'Pastel2_r', 'Set1_r', 'Set2_r', 'Set3_r', 'tab10_r', 'tab20_r', 'tab20b_r', 'tab20c_r']\n"
     ]
    }
   ],
   "source": [
    "print(plt.colormaps())"
   ]
  },
  {
   "cell_type": "code",
   "execution_count": null,
   "id": "360f21ee-d8dc-44fc-ac81-774e5eb2558f",
   "metadata": {},
   "outputs": [],
   "source": [
    "#seaborn - python library for statistical data visualization "
   ]
  },
  {
   "cell_type": "code",
   "execution_count": 18,
   "id": "e0f4e742-2091-4992-97e0-384496c9ad63",
   "metadata": {},
   "outputs": [
    {
     "name": "stdout",
     "output_type": "stream",
     "text": [
      "Defaulting to user installation because normal site-packages is not writeable\n",
      "Requirement already satisfied: seaborn in c:\\programdata\\anaconda3\\lib\\site-packages (0.13.2)\n",
      "Requirement already satisfied: numpy!=1.24.0,>=1.20 in c:\\programdata\\anaconda3\\lib\\site-packages (from seaborn) (1.26.4)\n",
      "Requirement already satisfied: pandas>=1.2 in c:\\programdata\\anaconda3\\lib\\site-packages (from seaborn) (2.2.2)\n",
      "Requirement already satisfied: matplotlib!=3.6.1,>=3.4 in c:\\programdata\\anaconda3\\lib\\site-packages (from seaborn) (3.9.2)\n",
      "Requirement already satisfied: contourpy>=1.0.1 in c:\\programdata\\anaconda3\\lib\\site-packages (from matplotlib!=3.6.1,>=3.4->seaborn) (1.2.0)\n",
      "Requirement already satisfied: cycler>=0.10 in c:\\programdata\\anaconda3\\lib\\site-packages (from matplotlib!=3.6.1,>=3.4->seaborn) (0.11.0)\n",
      "Requirement already satisfied: fonttools>=4.22.0 in c:\\programdata\\anaconda3\\lib\\site-packages (from matplotlib!=3.6.1,>=3.4->seaborn) (4.51.0)\n",
      "Requirement already satisfied: kiwisolver>=1.3.1 in c:\\programdata\\anaconda3\\lib\\site-packages (from matplotlib!=3.6.1,>=3.4->seaborn) (1.4.4)\n",
      "Requirement already satisfied: packaging>=20.0 in c:\\programdata\\anaconda3\\lib\\site-packages (from matplotlib!=3.6.1,>=3.4->seaborn) (24.1)\n",
      "Requirement already satisfied: pillow>=8 in c:\\programdata\\anaconda3\\lib\\site-packages (from matplotlib!=3.6.1,>=3.4->seaborn) (10.4.0)\n",
      "Requirement already satisfied: pyparsing>=2.3.1 in c:\\programdata\\anaconda3\\lib\\site-packages (from matplotlib!=3.6.1,>=3.4->seaborn) (3.1.2)\n",
      "Requirement already satisfied: python-dateutil>=2.7 in c:\\programdata\\anaconda3\\lib\\site-packages (from matplotlib!=3.6.1,>=3.4->seaborn) (2.9.0.post0)\n",
      "Requirement already satisfied: pytz>=2020.1 in c:\\programdata\\anaconda3\\lib\\site-packages (from pandas>=1.2->seaborn) (2024.1)\n",
      "Requirement already satisfied: tzdata>=2022.7 in c:\\programdata\\anaconda3\\lib\\site-packages (from pandas>=1.2->seaborn) (2023.3)\n",
      "Requirement already satisfied: six>=1.5 in c:\\programdata\\anaconda3\\lib\\site-packages (from python-dateutil>=2.7->matplotlib!=3.6.1,>=3.4->seaborn) (1.16.0)\n"
     ]
    }
   ],
   "source": [
    "!pip install seaborn"
   ]
  },
  {
   "cell_type": "code",
   "execution_count": 19,
   "id": "f712c67a-e69a-49c8-8e76-36dad9615728",
   "metadata": {},
   "outputs": [],
   "source": [
    "import seaborn as sns\n",
    "import pandas as pd"
   ]
  },
  {
   "cell_type": "code",
   "execution_count": 20,
   "id": "9de33007-a606-41ce-a9d4-637d1d8e8d8b",
   "metadata": {},
   "outputs": [
    {
     "name": "stdout",
     "output_type": "stream",
     "text": [
      "['anagrams', 'anscombe', 'attention', 'brain_networks', 'car_crashes', 'diamonds', 'dots', 'dowjones', 'exercise', 'flights', 'fmri', 'geyser', 'glue', 'healthexp', 'iris', 'mpg', 'penguins', 'planets', 'seaice', 'taxis', 'tips', 'titanic']\n"
     ]
    }
   ],
   "source": [
    "print(sns.get_dataset_names())"
   ]
  },
  {
   "cell_type": "code",
   "execution_count": 21,
   "id": "40db7e28-35ab-4f4d-adc5-1b1ae90b8cf5",
   "metadata": {},
   "outputs": [
    {
     "name": "stdout",
     "output_type": "stream",
     "text": [
      "   total_bill   tip     sex smoker  day    time  size\n",
      "0       16.99  1.01  Female     No  Sun  Dinner     2\n",
      "1       10.34  1.66    Male     No  Sun  Dinner     3\n",
      "2       21.01  3.50    Male     No  Sun  Dinner     3\n",
      "3       23.68  3.31    Male     No  Sun  Dinner     2\n",
      "4       24.59  3.61  Female     No  Sun  Dinner     4\n"
     ]
    }
   ],
   "source": [
    "df=sns.load_dataset('tips')\n",
    "print(df.head())#returns first five rows"
   ]
  },
  {
   "cell_type": "code",
   "execution_count": 22,
   "id": "46d47b8d-cf40-4d90-9b82-979a21d19dd3",
   "metadata": {},
   "outputs": [
    {
     "data": {
      "image/png": "[encoded data removed]",
      "text/plain": [
       "<Figure size 640x480 with 1 Axes>"
      ]
     },
     "metadata": {},
     "output_type": "display_data"
    }
   ],
   "source": [
    "#scatterplot \n",
    "sns.scatterplot(x=\"total_bill\",y=\"tip\",hue=\"sex\",data=df)\n",
    "plt.show()\n",
    "\n",
    "#hue - legend"
   ]
  },
  {
   "cell_type": "code",
   "execution_count": 23,
   "id": "42f855bc-d5c8-4aaa-9b66-bda963c2b4e8",
   "metadata": {},
   "outputs": [
    {
     "data": {
      "image/png": "[encoded data removed]",
      "text/plain": [
       "<Figure size 640x480 with 1 Axes>"
      ]
     },
     "metadata": {},
     "output_type": "display_data"
    }
   ],
   "source": [
    "#line plot \n",
    "\n",
    "sns.lineplot(x=\"size\",y=\"total_bill\",data=df)\n",
    "plt.show()"
   ]
  },
  {
   "cell_type": "code",
   "execution_count": 26,
   "id": "76da86d4-4b00-434e-a695-b8aae61a140f",
   "metadata": {},
   "outputs": [
    {
     "data": {
      "image/png": "[encoded data removed]",
      "text/plain": [
       "<Figure size 640x480 with 1 Axes>"
      ]
     },
     "metadata": {},
     "output_type": "display_data"
    }
   ],
   "source": [
    "#bar plot\n",
    "\n",
    "sns.barplot(x=\"day\",y=\"total_bill\",hue=\"sex\",data=df)\n",
    "plt.show()"
   ]
  },
  {
   "cell_type": "code",
   "execution_count": null,
   "id": "e76dc03e-9415-4375-9f08-1431ee8c9133",
   "metadata": {},
   "outputs": [],
   "source": []
  }
 ],
 "metadata": {
  "kernelspec": {
   "display_name": "Python 3 (ipykernel)",
   "language": "python",
   "name": "python3"
  },
  "language_info": {
   "codemirror_mode": {
    "name": "ipython",
    "version": 3
   },
   "file_extension": ".py",
   "mimetype": "text/x-python",
   "name": "python",
   "nbconvert_exporter": "python",
   "pygments_lexer": "ipython3",
   "version": "3.12.7"
  }
 },
 "nbformat": 4,
 "nbformat_minor": 5
}
